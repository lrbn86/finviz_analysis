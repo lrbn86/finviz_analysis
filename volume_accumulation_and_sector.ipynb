{
 "cells": [
  {
   "attachments": {},
   "cell_type": "markdown",
   "metadata": {},
   "source": [
    "VOLUME ACCUMULATION"
   ]
  },
  {
   "cell_type": "code",
   "execution_count": 1,
   "metadata": {},
   "outputs": [
    {
     "name": "stdout",
     "output_type": "stream",
     "text": [
      "╔═════════════════════════════════════╗\n",
      "║ Ticker     Volume      Price Change ║\n",
      "╟─────────────────────────────────────╢\n",
      "║  MULN    256,803,488      -7.75%    ║\n",
      "║  TSLA    212,018,256      3.10%     ║\n",
      "║  TQQQ    194,052,987      -2.16%    ║\n",
      "║  SRNE    179,930,404      20.20%    ║\n",
      "║  GMBL    174,768,607      -6.93%    ║\n",
      "╚═════════════════════════════════════╝\n"
     ]
    }
   ],
   "source": [
    "from urllib.request import Request, urlopen\n",
    "from bs4 import BeautifulSoup\n",
    "from table2ascii import table2ascii as t2a, PresetStyle, Alignment\n",
    "\n",
    "url = 'https://finviz.com/screener.ashx?v=141&o=-volume'\n",
    "groups_url = 'https://finviz.com/groups.ashx'\n",
    "\n",
    "req = Request(url, headers={'User-Agent': 'Mozilla/5.0'})\n",
    "web_byte = urlopen(req).read()\n",
    "webpage = web_byte.decode('utf-8')\n",
    "soup = BeautifulSoup(webpage, 'html.parser')\n",
    "\n",
    "table = soup.find('table', {'class':'table-light'})\n",
    "rows = table.findChildren(['tr'])\n",
    "\n",
    "equities = []\n",
    "\n",
    "for row in rows[1:6]:\n",
    "    row_obj = row.findChildren('td')\n",
    "    pos = row_obj[0].text\n",
    "    symbol = row_obj[1].text\n",
    "    perf_week = row_obj[2].text\n",
    "    rel_volume = row_obj[12].text\n",
    "    price = row_obj[13].text\n",
    "    change = row_obj[14].text\n",
    "    volume = row_obj[15].text\n",
    "    #stock = [pos, symbol, price, change, perf_week, rel_volume, volume]\n",
    "    stock = [symbol, volume, change]\n",
    "    equities.append(stock)\n",
    "#headers = ['No.', 'Ticker', 'Price', 'Change', '1 Week Performance', 'Relative Volume', 'Volume']\n",
    "headers = ['Ticker', 'Volume', 'Price Change']\n",
    "table = t2a(headers, equities)\n",
    "print(table)"
   ]
  },
  {
   "attachments": {},
   "cell_type": "markdown",
   "metadata": {},
   "source": [
    "SECTOR"
   ]
  },
  {
   "cell_type": "code",
   "execution_count": 2,
   "metadata": {},
   "outputs": [
    {
     "name": "stdout",
     "output_type": "stream",
     "text": [
      "╔════════════════════════════════════════════════════════════════╗\n",
      "║          Name            1 Week Performance   Change   Volume  ║\n",
      "╟────────────────────────────────────────────────────────────────╢\n",
      "║          Name                Perf Week        Change   Volume  ║\n",
      "║   Consumer Cyclical            1.71%          -0.38%    1.85B  ║\n",
      "║       Technology               -0.26%         -1.24%    1.42B  ║\n",
      "║       Healthcare               0.06%          0.89%     1.24B  ║\n",
      "║       Financial                -0.30%         -0.18%   832.64M ║\n",
      "║         Energy                 -5.00%         -3.00%   676.49M ║\n",
      "║ Communication Services         0.62%          -0.65%   633.20M ║\n",
      "║      Industrials               0.89%          0.39%    506.37M ║\n",
      "║    Basic Materials             -0.47%         -1.21%   380.51M ║\n",
      "║      Real Estate               -0.89%         -0.48%   315.21M ║\n",
      "║   Consumer Defensive           1.38%          0.97%    274.89M ║\n",
      "║       Utilities                0.75%          1.00%    154.58M ║\n",
      "╚════════════════════════════════════════════════════════════════╝\n"
     ]
    }
   ],
   "source": [
    "sector_url = 'https://finviz.com/groups.ashx?g=sector&v=140&o=-volume'\n",
    "\n",
    "req = Request(sector_url, headers={'User-Agent': 'Mozilla/5.0'})\n",
    "web_byte = urlopen(req).read()\n",
    "webpage = web_byte.decode('utf-8')\n",
    "soup = BeautifulSoup(webpage, 'html.parser')\n",
    "\n",
    "table = soup.find('table', {'class': 'table-light'})\n",
    "rows = table.findChildren(['tr'])\n",
    "\n",
    "groups = []\n",
    "\n",
    "for row in rows:\n",
    "    row_obj = row.findChildren('td')\n",
    "    name = row_obj[1].text\n",
    "    perf_week = row_obj[2].text\n",
    "    rel_volume = row_obj[10].text\n",
    "    change = row_obj[11].text\n",
    "    volume = row_obj[12].text\n",
    "    group = [name, perf_week, change, volume]\n",
    "    groups.append(group)\n",
    "headers = ['Name', '1 Week Performance', 'Change', 'Volume']\n",
    "table = t2a(headers, groups)\n",
    "print(table)"
   ]
  }
 ],
 "metadata": {
  "kernelspec": {
   "display_name": "env",
   "language": "python",
   "name": "python3"
  },
  "language_info": {
   "codemirror_mode": {
    "name": "ipython",
    "version": 3
   },
   "file_extension": ".py",
   "mimetype": "text/x-python",
   "name": "python",
   "nbconvert_exporter": "python",
   "pygments_lexer": "ipython3",
   "version": "3.9.6"
  },
  "orig_nbformat": 4,
  "vscode": {
   "interpreter": {
    "hash": "b83d78cd8c39b7a5dbc7cb9a248c29e2f4c0693c90baef1eddc9dd52d230441c"
   }
  }
 },
 "nbformat": 4,
 "nbformat_minor": 2
}
