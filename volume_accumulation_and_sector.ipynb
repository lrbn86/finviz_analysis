{
 "cells": [
  {
   "attachments": {},
   "cell_type": "markdown",
   "metadata": {},
   "source": [
    "VOLUME ACCUMULATION"
   ]
  },
  {
   "cell_type": "code",
   "execution_count": 3,
   "metadata": {},
   "outputs": [
    {
     "name": "stdout",
     "output_type": "stream",
     "text": [
      "Ticker    Price     Perf Week      Change    Rel Volume     Volume\n",
      "TQQQ      25.49     -3.48%         2.16%     1.35           254,678,409\n",
      "TSLA      209.25    6.32%          7.51%     1.38           214,710,520\n",
      "PLTR      9.22      10.68%         21.16%    6.53           214,309,337\n",
      "SQQQ      34.36     2.94%          -2.11%    1.71           205,147,395\n",
      "SRNE      0.20      -81.19%        -23.21%   7.37           189,234,764\n",
      "AMST      0.51      52.86%         81.62%    121.33         155,658,114\n",
      "SOXL      17.33     -1.48%         5.54%     1.12           110,567,315\n",
      "BWV       1.56      26.83%         33.33%    284.57         90,025,201\n",
      "SPY       412.64    -0.61%         -0.05%    1.10           87,278,478\n",
      "WISH      0.75      5.44%          -14.65%   3.59           80,928,844\n",
      "MULN      0.38      -9.21%         -0.37%    0.38           80,469,775\n",
      "XELA      0.06      -9.54%         2.75%     0.70           76,812,873\n",
      "F         12.97     1.31%          -0.92%    1.28           74,980,154\n",
      "SOXS      19.07     0.37%          -5.55%    1.97           67,792,474\n",
      "NVDA      229.71    3.60%          5.43%     1.45           67,249,235\n",
      "QQQ       306.75    -1.01%         0.74%     1.26           63,853,003\n",
      "BBBY      1.94      -35.55%        -4.90%    1.24           63,459,119\n",
      "AAPL      153.20    -0.94%         -0.42%    0.79           60,318,993\n",
      "AMD       85.95     0.05%          3.39%     0.93           55,870,247\n",
      "AMZN      99.70     -2.36%         0.16%     0.72           55,856,391\n"
     ]
    }
   ],
   "source": [
    "from urllib.request import Request, urlopen\n",
    "from bs4 import BeautifulSoup\n",
    "\n",
    "url = 'https://finviz.com/screener.ashx?v=141&o=-volume'\n",
    "groups_url = 'https://finviz.com/groups.ashx'\n",
    "\n",
    "req = Request(url, headers={'User-Agent': 'Mozilla/5.0'})\n",
    "web_byte = urlopen(req).read()\n",
    "webpage = web_byte.decode('utf-8')\n",
    "soup = BeautifulSoup(webpage, 'html.parser')\n",
    "\n",
    "table = soup.find('table', {'class':'table-light'})\n",
    "rows = table.findChildren(['tr'])\n",
    "\n",
    "for row in rows:\n",
    "    row_obj = row.findChildren('td')\n",
    "    symbol = row_obj[1].text\n",
    "    perf_week = row_obj[2].text\n",
    "    rel_volume = row_obj[12].text\n",
    "    price = row_obj[13].text\n",
    "    change = row_obj[14].text\n",
    "    volume = row_obj[15].text\n",
    "    print(f\"{symbol:<10}{price:<10}{perf_week:<15}{change:<10}{rel_volume:<15}{volume}\")"
   ]
  },
  {
   "attachments": {},
   "cell_type": "markdown",
   "metadata": {},
   "source": [
    "SECTOR"
   ]
  },
  {
   "cell_type": "code",
   "execution_count": 83,
   "metadata": {},
   "outputs": [
    {
     "name": "stdout",
     "output_type": "stream",
     "text": [
      "Name                     Perf Week      Change         Rel Volume     Volume\n",
      "Technology               0.09%          0.82%          1.24           1.79B\n",
      "Consumer Cyclical        -0.31%         1.06%          0.84           1.44B\n",
      "Healthcare               -0.14%         -0.39%         1.07           1.29B\n",
      "Financial                -0.57%         -0.34%         1.01           855.43M\n",
      "Communication Services   -6.75%         0.10%          0.87           627.66M\n",
      "Industrials              -0.21%         -0.15%         0.98           515.67M\n",
      "Energy                   2.58%          0.21%          0.94           507.48M\n",
      "Basic Materials          -1.14%         0.36%          0.91           344.71M\n",
      "Real Estate              -1.13%         -0.82%         0.96           296.96M\n",
      "Consumer Defensive       0.32%          -0.70%         0.90           286.42M\n",
      "Utilities                -0.99%         -0.56%         0.80           116.22M\n"
     ]
    }
   ],
   "source": [
    "sector_url = 'https://finviz.com/groups.ashx?g=sector&v=140&o=-volume'\n",
    "\n",
    "req = Request(sector_url, headers={'User-Agent': 'Mozilla/5.0'})\n",
    "web_byte = urlopen(req).read()\n",
    "webpage = web_byte.decode('utf-8')\n",
    "soup = BeautifulSoup(webpage, 'html.parser')\n",
    "\n",
    "table = soup.find('table', {'class': 'table-light'})\n",
    "rows = table.findChildren(['tr'])\n",
    "\n",
    "for row in rows:\n",
    "    row_obj = row.findChildren('td')\n",
    "    name = row_obj[1].text\n",
    "    perf_week = row_obj[2].text\n",
    "    rel_volume = row_obj[10].text\n",
    "    change = row_obj[11].text\n",
    "    volume = row_obj[12].text\n",
    "    print(f\"{name:<25}{perf_week:<15}{change:<15}{rel_volume:<15}{volume}\")"
   ]
  }
 ],
 "metadata": {
  "kernelspec": {
   "display_name": "Python 3",
   "language": "python",
   "name": "python3"
  },
  "language_info": {
   "codemirror_mode": {
    "name": "ipython",
    "version": 3
   },
   "file_extension": ".py",
   "mimetype": "text/x-python",
   "name": "python",
   "nbconvert_exporter": "python",
   "pygments_lexer": "ipython3",
   "version": "3.9.6"
  },
  "orig_nbformat": 4,
  "vscode": {
   "interpreter": {
    "hash": "ffc532ed8a784cdfb8a39261f01be3d3895cee2e2b54e8698a7318bacbcb2147"
   }
  }
 },
 "nbformat": 4,
 "nbformat_minor": 2
}
