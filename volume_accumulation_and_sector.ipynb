{
 "cells": [
  {
   "attachments": {},
   "cell_type": "markdown",
   "metadata": {},
   "source": [
    "VOLUME ACCUMULATION"
   ]
  },
  {
   "cell_type": "code",
   "execution_count": 40,
   "metadata": {},
   "outputs": [
    {
     "name": "stdout",
     "output_type": "stream",
     "text": [
      "╔══════════════════════════════════════════════════════════════════════════════════════╗\n",
      "║ No.   Ticker   Price    Change    1 Week Performance   Relative Volume     Volume    ║\n",
      "╟──────────────────────────────────────────────────────────────────────────────────────╢\n",
      "║  1     TQQQ    25.49     2.16%          -3.48%              1.35         254,678,409 ║\n",
      "║  2     TSLA    209.25    7.51%          6.32%               1.38         214,710,520 ║\n",
      "║  3     PLTR     9.22    21.16%          10.68%              6.53         214,309,337 ║\n",
      "║  4     SQQQ    34.36    -2.11%          2.94%               1.71         205,147,395 ║\n",
      "║  5     SRNE     0.20    -23.21%        -81.19%              7.37         189,234,764 ║\n",
      "╚══════════════════════════════════════════════════════════════════════════════════════╝\n"
     ]
    }
   ],
   "source": [
    "from urllib.request import Request, urlopen\n",
    "from bs4 import BeautifulSoup\n",
    "from table2ascii import table2ascii as t2a, PresetStyle, Alignment\n",
    "\n",
    "url = 'https://finviz.com/screener.ashx?v=141&o=-volume'\n",
    "groups_url = 'https://finviz.com/groups.ashx'\n",
    "\n",
    "req = Request(url, headers={'User-Agent': 'Mozilla/5.0'})\n",
    "web_byte = urlopen(req).read()\n",
    "webpage = web_byte.decode('utf-8')\n",
    "soup = BeautifulSoup(webpage, 'html.parser')\n",
    "\n",
    "table = soup.find('table', {'class':'table-light'})\n",
    "rows = table.findChildren(['tr'])\n",
    "\n",
    "equities = []\n",
    "\n",
    "for row in rows[1:6]:\n",
    "    row_obj = row.findChildren('td')\n",
    "    pos = row_obj[0].text\n",
    "    symbol = row_obj[1].text\n",
    "    perf_week = row_obj[2].text\n",
    "    rel_volume = row_obj[12].text\n",
    "    price = row_obj[13].text\n",
    "    change = row_obj[14].text\n",
    "    volume = row_obj[15].text\n",
    "    #stock = [pos, symbol, price, change, perf_week, rel_volume, volume]\n",
    "    stock = [symbol, volume]\n",
    "    equities.append(stock)\n",
    "#headers = ['No.', 'Ticker', 'Price', 'Change', '1 Week Performance', 'Relative Volume', 'Volume']\n",
    "#headers = ['Ticker', 'Volume']\n",
    "table = t2a(headers, equities)\n",
    "print(table)"
   ]
  },
  {
   "attachments": {},
   "cell_type": "markdown",
   "metadata": {},
   "source": [
    "SECTOR"
   ]
  },
  {
   "cell_type": "code",
   "execution_count": 83,
   "metadata": {},
   "outputs": [
    {
     "name": "stdout",
     "output_type": "stream",
     "text": [
      "Name                     Perf Week      Change         Rel Volume     Volume\n",
      "Technology               0.09%          0.82%          1.24           1.79B\n",
      "Consumer Cyclical        -0.31%         1.06%          0.84           1.44B\n",
      "Healthcare               -0.14%         -0.39%         1.07           1.29B\n",
      "Financial                -0.57%         -0.34%         1.01           855.43M\n",
      "Communication Services   -6.75%         0.10%          0.87           627.66M\n",
      "Industrials              -0.21%         -0.15%         0.98           515.67M\n",
      "Energy                   2.58%          0.21%          0.94           507.48M\n",
      "Basic Materials          -1.14%         0.36%          0.91           344.71M\n",
      "Real Estate              -1.13%         -0.82%         0.96           296.96M\n",
      "Consumer Defensive       0.32%          -0.70%         0.90           286.42M\n",
      "Utilities                -0.99%         -0.56%         0.80           116.22M\n"
     ]
    }
   ],
   "source": [
    "sector_url = 'https://finviz.com/groups.ashx?g=sector&v=140&o=-volume'\n",
    "\n",
    "req = Request(sector_url, headers={'User-Agent': 'Mozilla/5.0'})\n",
    "web_byte = urlopen(req).read()\n",
    "webpage = web_byte.decode('utf-8')\n",
    "soup = BeautifulSoup(webpage, 'html.parser')\n",
    "\n",
    "table = soup.find('table', {'class': 'table-light'})\n",
    "rows = table.findChildren(['tr'])\n",
    "\n",
    "for row in rows:\n",
    "    row_obj = row.findChildren('td')\n",
    "    name = row_obj[1].text\n",
    "    perf_week = row_obj[2].text\n",
    "    rel_volume = row_obj[10].text\n",
    "    change = row_obj[11].text\n",
    "    volume = row_obj[12].text\n",
    "    print(f\"{name:<25}{perf_week:<15}{change:<15}{rel_volume:<15}{volume}\")"
   ]
  }
 ],
 "metadata": {
  "kernelspec": {
   "display_name": "Python 3",
   "language": "python",
   "name": "python3"
  },
  "language_info": {
   "codemirror_mode": {
    "name": "ipython",
    "version": 3
   },
   "file_extension": ".py",
   "mimetype": "text/x-python",
   "name": "python",
   "nbconvert_exporter": "python",
   "pygments_lexer": "ipython3",
   "version": "3.9.6"
  },
  "orig_nbformat": 4,
  "vscode": {
   "interpreter": {
    "hash": "ffc532ed8a784cdfb8a39261f01be3d3895cee2e2b54e8698a7318bacbcb2147"
   }
  }
 },
 "nbformat": 4,
 "nbformat_minor": 2
}
