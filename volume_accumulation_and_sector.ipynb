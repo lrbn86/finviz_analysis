{
 "cells": [
  {
   "attachments": {},
   "cell_type": "markdown",
   "metadata": {},
   "source": [
    "VOLUME ACCUMULATION"
   ]
  },
  {
   "cell_type": "code",
   "execution_count": 4,
   "metadata": {},
   "outputs": [
    {
     "name": "stdout",
     "output_type": "stream",
     "text": [
      "╔═════════════════════════════════════╗\n",
      "║ Ticker     Volume      Price Change ║\n",
      "╟─────────────────────────────────────╢\n",
      "║  SRNE    263,715,521      56.11%    ║\n",
      "║  TSLA    226,202,611      -5.69%    ║\n",
      "║  MULN    215,667,296     -15.11%    ║\n",
      "║  TQQQ    192,220,817      -5.72%    ║\n",
      "║  SQQQ    157,123,432      5.72%     ║\n",
      "╚═════════════════════════════════════╝\n"
     ]
    }
   ],
   "source": [
    "from urllib.request import Request, urlopen\n",
    "from bs4 import BeautifulSoup\n",
    "from table2ascii import table2ascii as t2a, PresetStyle, Alignment\n",
    "\n",
    "url = 'https://finviz.com/screener.ashx?v=141&o=-volume'\n",
    "groups_url = 'https://finviz.com/groups.ashx'\n",
    "\n",
    "req = Request(url, headers={'User-Agent': 'Mozilla/5.0'})\n",
    "web_byte = urlopen(req).read()\n",
    "webpage = web_byte.decode('utf-8')\n",
    "soup = BeautifulSoup(webpage, 'html.parser')\n",
    "\n",
    "table = soup.find('table', {'class':'table-light'})\n",
    "rows = table.findChildren(['tr'])\n",
    "\n",
    "equities = []\n",
    "\n",
    "for row in rows[1:6]:\n",
    "    row_obj = row.findChildren('td')\n",
    "    pos = row_obj[0].text\n",
    "    symbol = row_obj[1].text\n",
    "    perf_week = row_obj[2].text\n",
    "    rel_volume = row_obj[12].text\n",
    "    price = row_obj[13].text\n",
    "    change = row_obj[14].text\n",
    "    volume = row_obj[15].text\n",
    "    #stock = [pos, symbol, price, change, perf_week, rel_volume, volume]\n",
    "    stock = [symbol, volume, change]\n",
    "    equities.append(stock)\n",
    "#headers = ['No.', 'Ticker', 'Price', 'Change', '1 Week Performance', 'Relative Volume', 'Volume']\n",
    "headers = ['Ticker', 'Volume', 'Price Change']\n",
    "table = t2a(headers, equities)\n",
    "print(table)"
   ]
  },
  {
   "attachments": {},
   "cell_type": "markdown",
   "metadata": {},
   "source": [
    "SECTOR"
   ]
  },
  {
   "cell_type": "code",
   "execution_count": 5,
   "metadata": {},
   "outputs": [
    {
     "name": "stdout",
     "output_type": "stream",
     "text": [
      "╔════════════════════════════════════════════════════════════════╗\n",
      "║          Name            1 Week Performance   Change   Volume  ║\n",
      "╟────────────────────────────────────────────────────────────────╢\n",
      "║          Name                Perf Week        Change   Volume  ║\n",
      "║   Consumer Cyclical            0.43%          -1.64%    1.73B  ║\n",
      "║       Technology               0.15%          -2.05%    1.60B  ║\n",
      "║       Healthcare               -0.29%         -1.03%    1.44B  ║\n",
      "║       Financial                0.13%          -0.82%   841.98M ║\n",
      "║ Communication Services         0.41%          -1.25%   764.61M ║\n",
      "║         Energy                 1.34%          -0.85%   567.53M ║\n",
      "║      Industrials               1.12%          -0.91%   481.02M ║\n",
      "║    Basic Materials             0.63%          -0.32%   390.05M ║\n",
      "║      Real Estate               -0.08%         -0.90%   311.33M ║\n",
      "║   Consumer Defensive           1.02%          -0.77%   286.63M ║\n",
      "║       Utilities                1.56%          -0.85%   147.49M ║\n",
      "╚════════════════════════════════════════════════════════════════╝\n"
     ]
    }
   ],
   "source": [
    "sector_url = 'https://finviz.com/groups.ashx?g=sector&v=140&o=-volume'\n",
    "\n",
    "req = Request(sector_url, headers={'User-Agent': 'Mozilla/5.0'})\n",
    "web_byte = urlopen(req).read()\n",
    "webpage = web_byte.decode('utf-8')\n",
    "soup = BeautifulSoup(webpage, 'html.parser')\n",
    "\n",
    "table = soup.find('table', {'class': 'table-light'})\n",
    "rows = table.findChildren(['tr'])\n",
    "\n",
    "groups = []\n",
    "\n",
    "for row in rows:\n",
    "    row_obj = row.findChildren('td')\n",
    "    name = row_obj[1].text\n",
    "    perf_week = row_obj[2].text\n",
    "    rel_volume = row_obj[10].text\n",
    "    change = row_obj[11].text\n",
    "    volume = row_obj[12].text\n",
    "    group = [name, perf_week, change, volume]\n",
    "    groups.append(group)\n",
    "headers = ['Name', '1 Week Performance', 'Change', 'Volume']\n",
    "table = t2a(headers, groups)\n",
    "print(table)"
   ]
  }
 ],
 "metadata": {
  "kernelspec": {
   "display_name": "Python 3",
   "language": "python",
   "name": "python3"
  },
  "language_info": {
   "codemirror_mode": {
    "name": "ipython",
    "version": 3
   },
   "file_extension": ".py",
   "mimetype": "text/x-python",
   "name": "python",
   "nbconvert_exporter": "python",
   "pygments_lexer": "ipython3",
   "version": "3.9.6"
  },
  "orig_nbformat": 4,
  "vscode": {
   "interpreter": {
    "hash": "ffc532ed8a784cdfb8a39261f01be3d3895cee2e2b54e8698a7318bacbcb2147"
   }
  }
 },
 "nbformat": 4,
 "nbformat_minor": 2
}
